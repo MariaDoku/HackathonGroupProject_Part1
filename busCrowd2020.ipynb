{
 "cells": [
  {
   "cell_type": "code",
   "execution_count": 1,
   "metadata": {},
   "outputs": [],
   "source": [
    "import sys, json"
   ]
  },
  {
   "cell_type": "code",
   "execution_count": 2,
   "metadata": {},
   "outputs": [
    {
     "data": {
      "text/plain": [
       "<module 'json' from '/Library/Frameworks/Python.framework/Versions/3.5/lib/python3.5/json/__init__.py'>"
      ]
     },
     "execution_count": 2,
     "metadata": {},
     "output_type": "execute_result"
    }
   ],
   "source": [
    "json"
   ]
  },
  {
   "cell_type": "code",
   "execution_count": 16,
   "metadata": {},
   "outputs": [],
   "source": [
    "def create_json(bus_route, stop_name, user_time):\n",
    "    \"\"\"\n",
    "    Creates .json file for an bus info file, can be accessed by vanillaJS or html\n",
    "\n",
    "    :param str bus_route: name of bus route (letters and numbers)\n",
    "    :param str stop_name: bus stop (number or street names)\n",
    "    :param str user_time: time in military format\n",
    "    :returns: name of json file\n",
    "    \"\"\"\n",
    "    stop_name_text = stop_name.replace(' ', \"-\")\n",
    "    user_time_text = user_time.replace(':', '-')\n",
    "    json_file = bus_route + \"_\" + stop_name_text + \"_\" + user_time_text + \".json\"\n",
    "\n",
    "    bus_route_line = ' \"bus_route\" : \"' + bus_route + '\", \\n'\n",
    "    bus_stop_name_line = ' \"stop_name\" : \"' + stop_name + '\", \\n'\n",
    "    user_time_line = ' \"user_time\" : \"' + user_time + '\" \\n'\n",
    "\n",
    "\n",
    "    with open(json_file, \"w\") as writefile:\n",
    "        writefile.write(\"{\\n\")\n",
    "        writefile.write(bus_route_line)\n",
    "        writefile.write(bus_stop_name_line)\n",
    "        writefile.write(user_time_line)\n",
    "        writefile.write(\"}\\n\")\n",
    "\n",
    "    return json_file\n"
   ]
  },
  {
   "cell_type": "code",
   "execution_count": 8,
   "metadata": {},
   "outputs": [
    {
     "data": {
      "text/plain": [
       "'71B_HIGHLAND-AVE-AT-FIFTH-AVE_12-00-00.json'"
      ]
     },
     "execution_count": 8,
     "metadata": {},
     "output_type": "execute_result"
    }
   ],
   "source": [
    "create_json(\"71B\", \"HIGHLAND-AVE-AT-FIFTH-AVE\", \"12-00-00\")"
   ]
  },
  {
   "cell_type": "code",
   "execution_count": 9,
   "metadata": {},
   "outputs": [
    {
     "name": "stdout",
     "output_type": "stream",
     "text": [
      "71B_HIGHLAND AVE AT FIFTH AVE_12:00:00.json\r\n",
      "71B_HIGHLAND-AVE-AT-FIFTH-AVE_12-00-00.json\r\n",
      "71B_HIGHLAND-AVE-AT-FIFTH-AVE_12:00:00.json\r\n",
      "Untitled.ipynb\r\n",
      "json_maker.py\r\n"
     ]
    }
   ],
   "source": [
    "ls"
   ]
  },
  {
   "cell_type": "code",
   "execution_count": 12,
   "metadata": {},
   "outputs": [
    {
     "name": "stdout",
     "output_type": "stream",
     "text": [
      "HIGHLAND-AVE-AT-FIFTH-AVE\n",
      "12-00-00\n"
     ]
    }
   ],
   "source": [
    "bus_route = \"71B\"\n",
    "stop_name = \"HIGHLAND AVE AT FIFTH AVE\"\n",
    "user_time = \"12:00:00\"\n",
    "stop_name_text = stop_name.replace(' ', \"-\")\n",
    "user_time_text = user_time.replace(':', '-')\n",
    "print(stop_name_text)\n",
    "print(user_time_text)"
   ]
  },
  {
   "cell_type": "code",
   "execution_count": 17,
   "metadata": {},
   "outputs": [
    {
     "data": {
      "text/plain": [
       "'71B_HIGHLAND-AVE-AT-FIFTH-AVE_12-00-00.json'"
      ]
     },
     "execution_count": 17,
     "metadata": {},
     "output_type": "execute_result"
    }
   ],
   "source": [
    "create_json(\"71B\", \"HIGHLAND AVE AT FIFTH AVE\", \"12:00:00\")"
   ]
  },
  {
   "cell_type": "code",
   "execution_count": null,
   "metadata": {},
   "outputs": [],
   "source": []
  }
 ],
 "metadata": {
  "kernelspec": {
   "display_name": "Python 3",
   "language": "python",
   "name": "python3"
  },
  "language_info": {
   "codemirror_mode": {
    "name": "ipython",
    "version": 3
   },
   "file_extension": ".py",
   "mimetype": "text/x-python",
   "name": "python",
   "nbconvert_exporter": "python",
   "pygments_lexer": "ipython3",
   "version": "3.5.2"
  }
 },
 "nbformat": 4,
 "nbformat_minor": 2
}
